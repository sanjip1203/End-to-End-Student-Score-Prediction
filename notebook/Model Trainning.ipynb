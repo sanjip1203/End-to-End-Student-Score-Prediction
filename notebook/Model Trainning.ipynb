{
 "cells": [
  {
   "cell_type": "markdown",
   "metadata": {},
   "source": [
    "# Model Tranning "
   ]
  },
  {
   "cell_type": "markdown",
   "metadata": {},
   "source": [
    "### 1.1 import data and required packages"
   ]
  },
  {
   "cell_type": "markdown",
   "metadata": {},
   "source": [
    "### importing pandas numpy  matplotlib seaborn and warings library"
   ]
  },
  {
   "cell_type": "code",
   "execution_count": 19,
   "metadata": {},
   "outputs": [],
   "source": [
    "import pandas as pd \n",
    "import numpy as np \n",
    "import matplotlib.pyplot as plt \n",
    "import seaborn as sns \n",
    "\n",
    "\n",
    "from sklearn.neighbors import KNeighborsRegressor\n",
    "from sklearn.tree import DecisionTreeRegressor\n",
    "from sklearn.ensemble import RandomForestRegressor,AdaBoostRegressor\n",
    "from sklearn.svm import SVR\n",
    "from sklearn.linear_model import LinearRegression,Ridge,Lasso,ElasticNet\n",
    "from sklearn.metrics import mean_absolute_error,r2_score,mean_squared_error,root_mean_squared_error\n",
    "from catboost import CatBoostRegressor\n",
    "# from xgboost import XGBRegressor\n",
    "import warnings"
   ]
  },
  {
   "cell_type": "markdown",
   "metadata": {},
   "source": [
    "### Import the CSV data as pandas dataframe"
   ]
  },
  {
   "cell_type": "code",
   "execution_count": 5,
   "metadata": {},
   "outputs": [],
   "source": [
    "df=pd.read_csv('data/StudentsPerformance.csv')"
   ]
  },
  {
   "cell_type": "markdown",
   "metadata": {},
   "source": [
    "### Show top 5 data"
   ]
  },
  {
   "cell_type": "code",
   "execution_count": 6,
   "metadata": {},
   "outputs": [
    {
     "data": {
      "text/html": [
       "<div>\n",
       "<style scoped>\n",
       "    .dataframe tbody tr th:only-of-type {\n",
       "        vertical-align: middle;\n",
       "    }\n",
       "\n",
       "    .dataframe tbody tr th {\n",
       "        vertical-align: top;\n",
       "    }\n",
       "\n",
       "    .dataframe thead th {\n",
       "        text-align: right;\n",
       "    }\n",
       "</style>\n",
       "<table border=\"1\" class=\"dataframe\">\n",
       "  <thead>\n",
       "    <tr style=\"text-align: right;\">\n",
       "      <th></th>\n",
       "      <th>gender</th>\n",
       "      <th>race/ethnicity</th>\n",
       "      <th>parental level of education</th>\n",
       "      <th>lunch</th>\n",
       "      <th>test preparation course</th>\n",
       "      <th>math score</th>\n",
       "      <th>reading score</th>\n",
       "      <th>writing score</th>\n",
       "    </tr>\n",
       "  </thead>\n",
       "  <tbody>\n",
       "    <tr>\n",
       "      <th>0</th>\n",
       "      <td>female</td>\n",
       "      <td>group B</td>\n",
       "      <td>bachelor's degree</td>\n",
       "      <td>standard</td>\n",
       "      <td>none</td>\n",
       "      <td>72</td>\n",
       "      <td>72</td>\n",
       "      <td>74</td>\n",
       "    </tr>\n",
       "    <tr>\n",
       "      <th>1</th>\n",
       "      <td>female</td>\n",
       "      <td>group C</td>\n",
       "      <td>some college</td>\n",
       "      <td>standard</td>\n",
       "      <td>completed</td>\n",
       "      <td>69</td>\n",
       "      <td>90</td>\n",
       "      <td>88</td>\n",
       "    </tr>\n",
       "    <tr>\n",
       "      <th>2</th>\n",
       "      <td>female</td>\n",
       "      <td>group B</td>\n",
       "      <td>master's degree</td>\n",
       "      <td>standard</td>\n",
       "      <td>none</td>\n",
       "      <td>90</td>\n",
       "      <td>95</td>\n",
       "      <td>93</td>\n",
       "    </tr>\n",
       "    <tr>\n",
       "      <th>3</th>\n",
       "      <td>male</td>\n",
       "      <td>group A</td>\n",
       "      <td>associate's degree</td>\n",
       "      <td>free/reduced</td>\n",
       "      <td>none</td>\n",
       "      <td>47</td>\n",
       "      <td>57</td>\n",
       "      <td>44</td>\n",
       "    </tr>\n",
       "    <tr>\n",
       "      <th>4</th>\n",
       "      <td>male</td>\n",
       "      <td>group C</td>\n",
       "      <td>some college</td>\n",
       "      <td>standard</td>\n",
       "      <td>none</td>\n",
       "      <td>76</td>\n",
       "      <td>78</td>\n",
       "      <td>75</td>\n",
       "    </tr>\n",
       "  </tbody>\n",
       "</table>\n",
       "</div>"
      ],
      "text/plain": [
       "   gender race/ethnicity parental level of education         lunch  \\\n",
       "0  female        group B           bachelor's degree      standard   \n",
       "1  female        group C                some college      standard   \n",
       "2  female        group B             master's degree      standard   \n",
       "3    male        group A          associate's degree  free/reduced   \n",
       "4    male        group C                some college      standard   \n",
       "\n",
       "  test preparation course  math score  reading score  writing score  \n",
       "0                    none          72             72             74  \n",
       "1               completed          69             90             88  \n",
       "2                    none          90             95             93  \n",
       "3                    none          47             57             44  \n",
       "4                    none          76             78             75  "
      ]
     },
     "execution_count": 6,
     "metadata": {},
     "output_type": "execute_result"
    }
   ],
   "source": [
    "df.head()"
   ]
  },
  {
   "cell_type": "markdown",
   "metadata": {},
   "source": [
    "## Preparing X and Y variables"
   ]
  },
  {
   "cell_type": "code",
   "execution_count": 7,
   "metadata": {},
   "outputs": [],
   "source": [
    "x = df.drop(columns=['math score'],axis=1)"
   ]
  },
  {
   "cell_type": "code",
   "execution_count": 8,
   "metadata": {},
   "outputs": [],
   "source": [
    "y= df['math score']"
   ]
  },
  {
   "cell_type": "code",
   "execution_count": 9,
   "metadata": {},
   "outputs": [
    {
     "data": {
      "text/html": [
       "<div>\n",
       "<style scoped>\n",
       "    .dataframe tbody tr th:only-of-type {\n",
       "        vertical-align: middle;\n",
       "    }\n",
       "\n",
       "    .dataframe tbody tr th {\n",
       "        vertical-align: top;\n",
       "    }\n",
       "\n",
       "    .dataframe thead th {\n",
       "        text-align: right;\n",
       "    }\n",
       "</style>\n",
       "<table border=\"1\" class=\"dataframe\">\n",
       "  <thead>\n",
       "    <tr style=\"text-align: right;\">\n",
       "      <th></th>\n",
       "      <th>gender</th>\n",
       "      <th>race/ethnicity</th>\n",
       "      <th>parental level of education</th>\n",
       "      <th>lunch</th>\n",
       "      <th>test preparation course</th>\n",
       "      <th>reading score</th>\n",
       "      <th>writing score</th>\n",
       "    </tr>\n",
       "  </thead>\n",
       "  <tbody>\n",
       "    <tr>\n",
       "      <th>0</th>\n",
       "      <td>female</td>\n",
       "      <td>group B</td>\n",
       "      <td>bachelor's degree</td>\n",
       "      <td>standard</td>\n",
       "      <td>none</td>\n",
       "      <td>72</td>\n",
       "      <td>74</td>\n",
       "    </tr>\n",
       "    <tr>\n",
       "      <th>1</th>\n",
       "      <td>female</td>\n",
       "      <td>group C</td>\n",
       "      <td>some college</td>\n",
       "      <td>standard</td>\n",
       "      <td>completed</td>\n",
       "      <td>90</td>\n",
       "      <td>88</td>\n",
       "    </tr>\n",
       "    <tr>\n",
       "      <th>2</th>\n",
       "      <td>female</td>\n",
       "      <td>group B</td>\n",
       "      <td>master's degree</td>\n",
       "      <td>standard</td>\n",
       "      <td>none</td>\n",
       "      <td>95</td>\n",
       "      <td>93</td>\n",
       "    </tr>\n",
       "    <tr>\n",
       "      <th>3</th>\n",
       "      <td>male</td>\n",
       "      <td>group A</td>\n",
       "      <td>associate's degree</td>\n",
       "      <td>free/reduced</td>\n",
       "      <td>none</td>\n",
       "      <td>57</td>\n",
       "      <td>44</td>\n",
       "    </tr>\n",
       "    <tr>\n",
       "      <th>4</th>\n",
       "      <td>male</td>\n",
       "      <td>group C</td>\n",
       "      <td>some college</td>\n",
       "      <td>standard</td>\n",
       "      <td>none</td>\n",
       "      <td>78</td>\n",
       "      <td>75</td>\n",
       "    </tr>\n",
       "  </tbody>\n",
       "</table>\n",
       "</div>"
      ],
      "text/plain": [
       "   gender race/ethnicity parental level of education         lunch  \\\n",
       "0  female        group B           bachelor's degree      standard   \n",
       "1  female        group C                some college      standard   \n",
       "2  female        group B             master's degree      standard   \n",
       "3    male        group A          associate's degree  free/reduced   \n",
       "4    male        group C                some college      standard   \n",
       "\n",
       "  test preparation course  reading score  writing score  \n",
       "0                    none             72             74  \n",
       "1               completed             90             88  \n",
       "2                    none             95             93  \n",
       "3                    none             57             44  \n",
       "4                    none             78             75  "
      ]
     },
     "execution_count": 9,
     "metadata": {},
     "output_type": "execute_result"
    }
   ],
   "source": [
    "x.head()"
   ]
  },
  {
   "cell_type": "code",
   "execution_count": 10,
   "metadata": {},
   "outputs": [
    {
     "data": {
      "text/plain": [
       "0    72\n",
       "1    69\n",
       "2    90\n",
       "3    47\n",
       "4    76\n",
       "Name: math score, dtype: int64"
      ]
     },
     "execution_count": 10,
     "metadata": {},
     "output_type": "execute_result"
    }
   ],
   "source": [
    "y.head()"
   ]
  },
  {
   "cell_type": "code",
   "execution_count": 11,
   "metadata": {},
   "outputs": [],
   "source": [
    "## create column Transformer with 3 types of transformers\n",
    "num_features = x.select_dtypes(exclude=\"object\").columns\n",
    "cat_features = x.select_dtypes(include=\"object\").columns\n",
    "\n",
    "from sklearn.preprocessing import OneHotEncoder,StandardScaler\n",
    "from sklearn.compose import ColumnTransformer\n",
    "\n",
    "numeric_transformer = StandardScaler()\n",
    "oh_transformer = OneHotEncoder()\n",
    "\n",
    "preprocessor = ColumnTransformer(\n",
    "    [\n",
    "        (\"OneHotEncoder\",oh_transformer,cat_features),\n",
    "        (\"standardScaler\",numeric_transformer,num_features),\n",
    "    ]\n",
    ")\n"
   ]
  },
  {
   "cell_type": "code",
   "execution_count": 12,
   "metadata": {},
   "outputs": [],
   "source": [
    "X = preprocessor.fit_transform(x)"
   ]
  },
  {
   "cell_type": "code",
   "execution_count": 15,
   "metadata": {},
   "outputs": [
    {
     "data": {
      "text/plain": [
       "((800, 19), (200, 19))"
      ]
     },
     "execution_count": 15,
     "metadata": {},
     "output_type": "execute_result"
    }
   ],
   "source": [
    "## seprate dataset into train test \n",
    "from sklearn.model_selection import train_test_split\n",
    "X_train,X_test,y_train,y_test = train_test_split(X,y,test_size=0.2,random_state=0)\n",
    "X_train.shape,X_test.shape"
   ]
  },
  {
   "cell_type": "markdown",
   "metadata": {},
   "source": [
    "## Create an evaluate function to give all metrics after model tranning"
   ]
  },
  {
   "cell_type": "code",
   "execution_count": 18,
   "metadata": {},
   "outputs": [],
   "source": [
    "def evaluate_model(true,predicted):\n",
    "    mae = mean_absolute_error(true,predicted)\n",
    "    mse = mean_squared_error(true,predicted)\n",
    "    rmse = root_mean_squared_error(true,predicted)\n",
    "    r_square = r2_score(true,predicted)\n",
    "    return mae,mse,rmse,r_square"
   ]
  },
  {
   "cell_type": "code",
   "execution_count": 26,
   "metadata": {},
   "outputs": [
    {
     "name": "stdout",
     "output_type": "stream",
     "text": [
      "--------------------------------------------------\n",
      "Linear Regression\n",
      "--------------------------------------------------\n",
      "Model performance for tranning set \n",
      "Root mean square errro:5.2815\n",
      " mean square errro:27.8947\n",
      "mean absolute errro:4.2276\n",
      "R_square error:0.8789\n",
      "++++++++++++++++++++++++++++++++++++++++++++++++++\n",
      "Model performance for testing set \n",
      "Root mean square errro:5.5720\n",
      " mean square errro:31.0468\n",
      "mean absolute errro:4.3948\n",
      "R_square error:0.8630\n",
      "==================================================\n",
      "--------------------------------------------------\n",
      "Lasso\n",
      "--------------------------------------------------\n",
      "Model performance for tranning set \n",
      "Root mean square errro:6.6102\n",
      " mean square errro:43.6951\n",
      "mean absolute errro:5.1990\n",
      "R_square error:0.8104\n",
      "++++++++++++++++++++++++++++++++++++++++++++++++++\n",
      "Model performance for testing set \n",
      "Root mean square errro:6.7021\n",
      " mean square errro:44.9186\n",
      "mean absolute errro:5.3566\n",
      "R_square error:0.8018\n",
      "==================================================\n",
      "--------------------------------------------------\n",
      "Ridge\n",
      "--------------------------------------------------\n",
      "Model performance for tranning set \n",
      "Root mean square errro:5.2818\n",
      " mean square errro:27.8974\n",
      "mean absolute errro:4.2268\n",
      "R_square error:0.8789\n",
      "++++++++++++++++++++++++++++++++++++++++++++++++++\n",
      "Model performance for testing set \n",
      "Root mean square errro:5.5674\n",
      " mean square errro:30.9963\n",
      "mean absolute errro:4.3880\n",
      "R_square error:0.8632\n",
      "==================================================\n",
      "--------------------------------------------------\n",
      "ElasticNet\n",
      "--------------------------------------------------\n",
      "Model performance for tranning set \n",
      "Root mean square errro:7.7380\n",
      " mean square errro:59.8767\n",
      "mean absolute errro:6.1666\n",
      "R_square error:0.7401\n",
      "++++++++++++++++++++++++++++++++++++++++++++++++++\n",
      "Model performance for testing set \n",
      "Root mean square errro:7.8153\n",
      " mean square errro:61.0787\n",
      "mean absolute errro:6.2571\n",
      "R_square error:0.7305\n",
      "==================================================\n",
      "--------------------------------------------------\n",
      "K-Neighbors Regressor\n",
      "--------------------------------------------------\n",
      "Model performance for tranning set \n",
      "Root mean square errro:5.8030\n",
      " mean square errro:33.6750\n",
      "mean absolute errro:4.6052\n",
      "R_square error:0.8539\n",
      "++++++++++++++++++++++++++++++++++++++++++++++++++\n",
      "Model performance for testing set \n",
      "Root mean square errro:6.8891\n",
      " mean square errro:47.4592\n",
      "mean absolute errro:5.5540\n",
      "R_square error:0.7906\n",
      "==================================================\n",
      "--------------------------------------------------\n",
      "Decision Tree Regressor\n",
      "--------------------------------------------------\n",
      "Model performance for tranning set \n",
      "Root mean square errro:0.0500\n",
      " mean square errro:0.0025\n",
      "mean absolute errro:0.0025\n",
      "R_square error:1.0000\n",
      "++++++++++++++++++++++++++++++++++++++++++++++++++\n",
      "Model performance for testing set \n",
      "Root mean square errro:7.8549\n",
      " mean square errro:61.7000\n",
      "mean absolute errro:6.2600\n",
      "R_square error:0.7277\n",
      "==================================================\n",
      "--------------------------------------------------\n",
      "Random Forest Regressor\n",
      "--------------------------------------------------\n",
      "Model performance for tranning set \n",
      "Root mean square errro:2.3248\n",
      " mean square errro:5.4047\n",
      "mean absolute errro:1.8323\n",
      "R_square error:0.9765\n",
      "++++++++++++++++++++++++++++++++++++++++++++++++++\n",
      "Model performance for testing set \n",
      "Root mean square errro:5.6936\n",
      " mean square errro:32.4171\n",
      "mean absolute errro:4.6169\n",
      "R_square error:0.8569\n",
      "==================================================\n",
      "--------------------------------------------------\n",
      "Cat Boost Regressor\n",
      "--------------------------------------------------\n",
      "Model performance for tranning set \n",
      "Root mean square errro:2.9675\n",
      " mean square errro:8.8063\n",
      "mean absolute errro:2.3476\n",
      "R_square error:0.9618\n",
      "++++++++++++++++++++++++++++++++++++++++++++++++++\n",
      "Model performance for testing set \n",
      "Root mean square errro:5.6766\n",
      " mean square errro:32.2235\n",
      "mean absolute errro:4.5164\n",
      "R_square error:0.8578\n",
      "==================================================\n",
      "--------------------------------------------------\n",
      "AdaBoostRegressor\n",
      "--------------------------------------------------\n",
      "Model performance for tranning set \n",
      "Root mean square errro:5.8622\n",
      " mean square errro:34.3655\n",
      "mean absolute errro:4.7635\n",
      "R_square error:0.8509\n",
      "++++++++++++++++++++++++++++++++++++++++++++++++++\n",
      "Model performance for testing set \n",
      "Root mean square errro:6.3245\n",
      " mean square errro:39.9994\n",
      "mean absolute errro:5.0463\n",
      "R_square error:0.8235\n",
      "==================================================\n"
     ]
    }
   ],
   "source": [
    "models={\n",
    "    \"Linear Regression\":LinearRegression(),\n",
    "    \"Lasso\":Lasso(),\n",
    "    \"Ridge\":Ridge(),\n",
    "    \"ElasticNet\":ElasticNet(),\n",
    "    \"K-Neighbors Regressor\":KNeighborsRegressor(),\n",
    "    \"Decision Tree Regressor\":DecisionTreeRegressor(),\n",
    "    \"Random Forest Regressor\":RandomForestRegressor(),\n",
    "    \"Cat Boost Regressor\":CatBoostRegressor(verbose=False),\n",
    "    \"AdaBoostRegressor\":AdaBoostRegressor()\n",
    "}\n",
    "model_list=[]\n",
    "r2_list=[]\n",
    "\n",
    "for i in range(len(list(models))):\n",
    "    model =list(models.values())[i]\n",
    "    model.fit(X_train,y_train)## Train model \n",
    "    \n",
    "    \n",
    "    \n",
    "    ## make predictions \n",
    "    y_train_pred = model.predict(X_train)\n",
    "    y_test_pred = model.predict(X_test)\n",
    "    \n",
    "    ## Evaluate train and test dataset \n",
    "    model_train_mae,model_train_mse,model_train_rmse,model_train_r_square = evaluate_model(y_train,y_train_pred)\n",
    "\n",
    "    model_test_mae,model_test_mse,model_test_rmse,model_test_r_square = evaluate_model(y_test,y_test_pred)\n",
    "    \n",
    "    \n",
    "    \n",
    "    print(\"-\"*50)\n",
    "    \n",
    "    print(list(models.keys())[i])\n",
    "    model_list.append(list(models.keys())[i])\n",
    "    print(\"-\"*50)\n",
    "    \n",
    "    \n",
    "    print(\"Model performance for tranning set \")\n",
    "    print(\"Root mean square errro:{:.4f}\".format(model_train_rmse))\n",
    "    print(\" mean square errro:{:.4f}\".format(model_train_mse))\n",
    "    print(\"mean absolute errro:{:.4f}\".format(model_train_mae))\n",
    "    print(\"R_square error:{:.4f}\".format(model_train_r_square))\n",
    "    print(\"+\"*50)\n",
    "    \n",
    "    print(\"Model performance for testing set \")\n",
    "    print(\"Root mean square errro:{:.4f}\".format(model_test_rmse))\n",
    "    print(\" mean square errro:{:.4f}\".format(model_test_mse))\n",
    "    print(\"mean absolute errro:{:.4f}\".format(model_test_mae))\n",
    "    print(\"R_square error:{:.4f}\".format(model_test_r_square))\n",
    "    print(\"=\"*50)\n",
    "    r2_list.append(model_test_r_square)\n",
    "    \n",
    "    "
   ]
  },
  {
   "cell_type": "code",
   "execution_count": 27,
   "metadata": {},
   "outputs": [
    {
     "data": {
      "text/html": [
       "<div>\n",
       "<style scoped>\n",
       "    .dataframe tbody tr th:only-of-type {\n",
       "        vertical-align: middle;\n",
       "    }\n",
       "\n",
       "    .dataframe tbody tr th {\n",
       "        vertical-align: top;\n",
       "    }\n",
       "\n",
       "    .dataframe thead th {\n",
       "        text-align: right;\n",
       "    }\n",
       "</style>\n",
       "<table border=\"1\" class=\"dataframe\">\n",
       "  <thead>\n",
       "    <tr style=\"text-align: right;\">\n",
       "      <th></th>\n",
       "      <th>Model name</th>\n",
       "      <th>R2_square</th>\n",
       "    </tr>\n",
       "  </thead>\n",
       "  <tbody>\n",
       "    <tr>\n",
       "      <th>2</th>\n",
       "      <td>Ridge</td>\n",
       "      <td>0.863213</td>\n",
       "    </tr>\n",
       "    <tr>\n",
       "      <th>0</th>\n",
       "      <td>Linear Regression</td>\n",
       "      <td>0.862990</td>\n",
       "    </tr>\n",
       "    <tr>\n",
       "      <th>7</th>\n",
       "      <td>Cat Boost Regressor</td>\n",
       "      <td>0.857797</td>\n",
       "    </tr>\n",
       "    <tr>\n",
       "      <th>6</th>\n",
       "      <td>Random Forest Regressor</td>\n",
       "      <td>0.856942</td>\n",
       "    </tr>\n",
       "    <tr>\n",
       "      <th>8</th>\n",
       "      <td>AdaBoostRegressor</td>\n",
       "      <td>0.823481</td>\n",
       "    </tr>\n",
       "    <tr>\n",
       "      <th>1</th>\n",
       "      <td>Lasso</td>\n",
       "      <td>0.801773</td>\n",
       "    </tr>\n",
       "    <tr>\n",
       "      <th>4</th>\n",
       "      <td>K-Neighbors Regressor</td>\n",
       "      <td>0.790561</td>\n",
       "    </tr>\n",
       "    <tr>\n",
       "      <th>3</th>\n",
       "      <td>ElasticNet</td>\n",
       "      <td>0.730458</td>\n",
       "    </tr>\n",
       "    <tr>\n",
       "      <th>5</th>\n",
       "      <td>Decision Tree Regressor</td>\n",
       "      <td>0.727716</td>\n",
       "    </tr>\n",
       "  </tbody>\n",
       "</table>\n",
       "</div>"
      ],
      "text/plain": [
       "                Model name  R2_square\n",
       "2                    Ridge   0.863213\n",
       "0        Linear Regression   0.862990\n",
       "7      Cat Boost Regressor   0.857797\n",
       "6  Random Forest Regressor   0.856942\n",
       "8        AdaBoostRegressor   0.823481\n",
       "1                    Lasso   0.801773\n",
       "4    K-Neighbors Regressor   0.790561\n",
       "3               ElasticNet   0.730458\n",
       "5  Decision Tree Regressor   0.727716"
      ]
     },
     "execution_count": 27,
     "metadata": {},
     "output_type": "execute_result"
    }
   ],
   "source": [
    "pd.DataFrame(list(zip(model_list,r2_list)),columns=['Model name','R2_square']).sort_values(by=['R2_square'],ascending=False)"
   ]
  },
  {
   "cell_type": "code",
   "execution_count": 28,
   "metadata": {},
   "outputs": [
    {
     "name": "stdout",
     "output_type": "stream",
     "text": [
      " accuracy of the model is : 0.8632125686993388\n"
     ]
    }
   ],
   "source": [
    "R_model = Ridge(fit_intercept=True)\n",
    "R_model = R_model.fit(X_train,y_train)\n",
    "y_pred = R_model.predict(X_test)\n",
    "score = r2_score(y_test,y_pred)\n",
    "print(f\" accuracy of the model is : {score}\")"
   ]
  },
  {
   "cell_type": "markdown",
   "metadata": {},
   "source": [
    "## plot y_pred and y_test "
   ]
  },
  {
   "cell_type": "code",
   "execution_count": 31,
   "metadata": {},
   "outputs": [
    {
     "data": {
      "text/plain": [
       "Text(0, 0.5, 'Predicted')"
      ]
     },
     "execution_count": 31,
     "metadata": {},
     "output_type": "execute_result"
    },
    {
     "data": {
      "image/png": "[encoded data removed]",
      "text/plain": [
       "<Figure size 640x480 with 1 Axes>"
      ]
     },
     "metadata": {},
     "output_type": "display_data"
    }
   ],
   "source": [
    "plt.scatter(y_test,y_pred)\n",
    "plt.xlabel(\"Actual \")\n",
    "plt.ylabel(\"Predicted\")"
   ]
  },
  {
   "cell_type": "code",
   "execution_count": 32,
   "metadata": {},
   "outputs": [
    {
     "data": {
      "text/plain": [
       "<Axes: xlabel='math score'>"
      ]
     },
     "execution_count": 32,
     "metadata": {},
     "output_type": "execute_result"
    },
    {
     "data": {
      "image/png": "[encoded data removed]",
      "text/plain": [
       "<Figure size 640x480 with 1 Axes>"
      ]
     },
     "metadata": {},
     "output_type": "display_data"
    }
   ],
   "source": [
    "sns.regplot(x=y_test,y=y_pred,ci=None,color='red')"
   ]
  },
  {
   "cell_type": "markdown",
   "metadata": {},
   "source": [
    "## difference between predicted and actual value "
   ]
  },
  {
   "cell_type": "code",
   "execution_count": 36,
   "metadata": {},
   "outputs": [
    {
     "data": {
      "text/html": [
       "<div>\n",
       "<style scoped>\n",
       "    .dataframe tbody tr th:only-of-type {\n",
       "        vertical-align: middle;\n",
       "    }\n",
       "\n",
       "    .dataframe tbody tr th {\n",
       "        vertical-align: top;\n",
       "    }\n",
       "\n",
       "    .dataframe thead th {\n",
       "        text-align: right;\n",
       "    }\n",
       "</style>\n",
       "<table border=\"1\" class=\"dataframe\">\n",
       "  <thead>\n",
       "    <tr style=\"text-align: right;\">\n",
       "      <th></th>\n",
       "      <th>Actual Value</th>\n",
       "      <th>Predicted Value</th>\n",
       "      <th>difference</th>\n",
       "    </tr>\n",
       "  </thead>\n",
       "  <tbody>\n",
       "    <tr>\n",
       "      <th>993</th>\n",
       "      <td>62</td>\n",
       "      <td>62.006107</td>\n",
       "      <td>-0.006107</td>\n",
       "    </tr>\n",
       "    <tr>\n",
       "      <th>859</th>\n",
       "      <td>87</td>\n",
       "      <td>74.897482</td>\n",
       "      <td>12.102518</td>\n",
       "    </tr>\n",
       "    <tr>\n",
       "      <th>298</th>\n",
       "      <td>40</td>\n",
       "      <td>48.680301</td>\n",
       "      <td>-8.680301</td>\n",
       "    </tr>\n",
       "    <tr>\n",
       "      <th>553</th>\n",
       "      <td>77</td>\n",
       "      <td>66.463769</td>\n",
       "      <td>10.536231</td>\n",
       "    </tr>\n",
       "    <tr>\n",
       "      <th>672</th>\n",
       "      <td>69</td>\n",
       "      <td>69.589120</td>\n",
       "      <td>-0.589120</td>\n",
       "    </tr>\n",
       "    <tr>\n",
       "      <th>...</th>\n",
       "      <td>...</td>\n",
       "      <td>...</td>\n",
       "      <td>...</td>\n",
       "    </tr>\n",
       "    <tr>\n",
       "      <th>679</th>\n",
       "      <td>63</td>\n",
       "      <td>63.380260</td>\n",
       "      <td>-0.380260</td>\n",
       "    </tr>\n",
       "    <tr>\n",
       "      <th>722</th>\n",
       "      <td>74</td>\n",
       "      <td>76.227390</td>\n",
       "      <td>-2.227390</td>\n",
       "    </tr>\n",
       "    <tr>\n",
       "      <th>215</th>\n",
       "      <td>84</td>\n",
       "      <td>81.242603</td>\n",
       "      <td>2.757397</td>\n",
       "    </tr>\n",
       "    <tr>\n",
       "      <th>653</th>\n",
       "      <td>65</td>\n",
       "      <td>61.659997</td>\n",
       "      <td>3.340003</td>\n",
       "    </tr>\n",
       "    <tr>\n",
       "      <th>150</th>\n",
       "      <td>62</td>\n",
       "      <td>71.646958</td>\n",
       "      <td>-9.646958</td>\n",
       "    </tr>\n",
       "  </tbody>\n",
       "</table>\n",
       "<p>200 rows × 3 columns</p>\n",
       "</div>"
      ],
      "text/plain": [
       "     Actual Value  Predicted Value  difference\n",
       "993            62        62.006107   -0.006107\n",
       "859            87        74.897482   12.102518\n",
       "298            40        48.680301   -8.680301\n",
       "553            77        66.463769   10.536231\n",
       "672            69        69.589120   -0.589120\n",
       "..            ...              ...         ...\n",
       "679            63        63.380260   -0.380260\n",
       "722            74        76.227390   -2.227390\n",
       "215            84        81.242603    2.757397\n",
       "653            65        61.659997    3.340003\n",
       "150            62        71.646958   -9.646958\n",
       "\n",
       "[200 rows x 3 columns]"
      ]
     },
     "execution_count": 36,
     "metadata": {},
     "output_type": "execute_result"
    }
   ],
   "source": [
    "pred_df = pd.DataFrame({'Actual Value':y_test,'Predicted Value':y_pred,'difference':y_test-y_pred})\n",
    "pred_df"
   ]
  }
 ],
 "metadata": {
  "kernelspec": {
   "display_name": "pro",
   "language": "python",
   "name": "python3"
  },
  "language_info": {
   "codemirror_mode": {
    "name": "ipython",
    "version": 3
   },
   "file_extension": ".py",
   "mimetype": "text/x-python",
   "name": "python",
   "nbconvert_exporter": "python",
   "pygments_lexer": "ipython3",
   "version": "3.10.16"
  }
 },
 "nbformat": 4,
 "nbformat_minor": 2
}
